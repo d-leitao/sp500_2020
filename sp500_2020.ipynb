{
 "metadata": {
  "language_info": {
   "codemirror_mode": {
    "name": "ipython",
    "version": 3
   },
   "file_extension": ".py",
   "mimetype": "text/x-python",
   "name": "python",
   "nbconvert_exporter": "python",
   "pygments_lexer": "ipython3",
   "version": "3.9.1-final"
  },
  "orig_nbformat": 2,
  "kernelspec": {
   "name": "python3",
   "display_name": "Python 3.9.1 64-bit",
   "metadata": {
    "interpreter": {
     "hash": "2151bf39a3858786866e37ebb41b7aee912f22b9b75592b06ecf541da4867318"
    }
   }
  }
 },
 "nbformat": 4,
 "nbformat_minor": 2,
 "cells": [
  {
   "cell_type": "code",
   "execution_count": 1,
   "metadata": {},
   "outputs": [],
   "source": [
    "import pandas as pd\n",
    "from scrapers import *"
   ]
  },
  {
   "cell_type": "code",
   "execution_count": 2,
   "metadata": {},
   "outputs": [
    {
     "output_type": "execute_result",
     "data": {
      "text/plain": [
       "    ticker             security                industry    weight\n",
       "0      MMM           3M Company             Industrials  0.003330\n",
       "1      ABT  Abbott Laboratories             Health Care  0.006305\n",
       "2     ABBV          AbbVie Inc.             Health Care  0.006060\n",
       "3     ABMD          ABIOMED Inc             Health Care  0.000414\n",
       "4      ACN        Accenture plc  Information Technology  0.005509\n",
       "..     ...                  ...                     ...       ...\n",
       "484    YUM      Yum! Brands Inc  Consumer Discretionary  0.001074\n",
       "485   ZBRA   Zebra Technologies  Information Technology  0.000655\n",
       "486    ZBH        Zimmer Biomet             Health Care  0.001019\n",
       "487   ZION        Zions Bancorp              Financials  0.000225\n",
       "488    ZTS               Zoetis             Health Care  0.002529\n",
       "\n",
       "[489 rows x 4 columns]"
      ],
      "text/html": "<div>\n<style scoped>\n    .dataframe tbody tr th:only-of-type {\n        vertical-align: middle;\n    }\n\n    .dataframe tbody tr th {\n        vertical-align: top;\n    }\n\n    .dataframe thead th {\n        text-align: right;\n    }\n</style>\n<table border=\"1\" class=\"dataframe\">\n  <thead>\n    <tr style=\"text-align: right;\">\n      <th></th>\n      <th>ticker</th>\n      <th>security</th>\n      <th>industry</th>\n      <th>weight</th>\n    </tr>\n  </thead>\n  <tbody>\n    <tr>\n      <th>0</th>\n      <td>MMM</td>\n      <td>3M Company</td>\n      <td>Industrials</td>\n      <td>0.003330</td>\n    </tr>\n    <tr>\n      <th>1</th>\n      <td>ABT</td>\n      <td>Abbott Laboratories</td>\n      <td>Health Care</td>\n      <td>0.006305</td>\n    </tr>\n    <tr>\n      <th>2</th>\n      <td>ABBV</td>\n      <td>AbbVie Inc.</td>\n      <td>Health Care</td>\n      <td>0.006060</td>\n    </tr>\n    <tr>\n      <th>3</th>\n      <td>ABMD</td>\n      <td>ABIOMED Inc</td>\n      <td>Health Care</td>\n      <td>0.000414</td>\n    </tr>\n    <tr>\n      <th>4</th>\n      <td>ACN</td>\n      <td>Accenture plc</td>\n      <td>Information Technology</td>\n      <td>0.005509</td>\n    </tr>\n    <tr>\n      <th>...</th>\n      <td>...</td>\n      <td>...</td>\n      <td>...</td>\n      <td>...</td>\n    </tr>\n    <tr>\n      <th>484</th>\n      <td>YUM</td>\n      <td>Yum! Brands Inc</td>\n      <td>Consumer Discretionary</td>\n      <td>0.001074</td>\n    </tr>\n    <tr>\n      <th>485</th>\n      <td>ZBRA</td>\n      <td>Zebra Technologies</td>\n      <td>Information Technology</td>\n      <td>0.000655</td>\n    </tr>\n    <tr>\n      <th>486</th>\n      <td>ZBH</td>\n      <td>Zimmer Biomet</td>\n      <td>Health Care</td>\n      <td>0.001019</td>\n    </tr>\n    <tr>\n      <th>487</th>\n      <td>ZION</td>\n      <td>Zions Bancorp</td>\n      <td>Financials</td>\n      <td>0.000225</td>\n    </tr>\n    <tr>\n      <th>488</th>\n      <td>ZTS</td>\n      <td>Zoetis</td>\n      <td>Health Care</td>\n      <td>0.002529</td>\n    </tr>\n  </tbody>\n</table>\n<p>489 rows × 4 columns</p>\n</div>"
     },
     "metadata": {},
     "execution_count": 2
    }
   ],
   "source": [
    "summ = summ_build(rescrape=False)\n",
    "summ"
   ]
  },
  {
   "cell_type": "code",
   "execution_count": 5,
   "metadata": {},
   "outputs": [
    {
     "output_type": "execute_result",
     "data": {
      "text/plain": [
       "                   MMM         ABT        ABBV        ABMD         ACN  \\\n",
       "Date                                                                     \n",
       "2020-01-02  172.119888   85.256981   83.871666  168.809998  206.125336   \n",
       "2020-01-03  170.637741   84.217628   83.075554  166.820007  205.782028   \n",
       "2020-01-06  170.800308   84.658859   83.731171  179.039993  204.438293   \n",
       "2020-01-07  170.111816   84.188210   83.253510  180.350006  200.024429   \n",
       "2020-01-08  172.722321   84.531395   83.843567  178.690002  200.416824   \n",
       "...                ...         ...         ...         ...         ...   \n",
       "2020-12-24  173.093628  107.915245  102.066246  303.410004  256.423737   \n",
       "2020-12-28  173.282074  107.357498  102.254044  312.910004  258.795624   \n",
       "2020-12-29  172.429108  107.895332  103.489594  320.929993  256.882202   \n",
       "2020-12-30  172.686966  108.004890  104.053001  323.920013  256.662933   \n",
       "2020-12-31  173.361404  109.050674  105.911278  324.200012  260.320435   \n",
       "\n",
       "                 ATVI        ADBE        AMD         AAP        AES  ...  \\\n",
       "Date                                                                 ...   \n",
       "2020-01-02  58.266792  334.429993  49.099998  158.191467  19.237413  ...   \n",
       "2020-01-03  58.286655  331.809998  48.599998  158.201385  19.016512  ...   \n",
       "2020-01-06  59.349670  333.709991  48.389999  155.601410  19.237413  ...   \n",
       "2020-01-07  59.945747  333.390015  48.250000  153.755646  19.304644  ...   \n",
       "2020-01-08  59.488754  337.869995  47.830002  151.989243  19.266226  ...   \n",
       "...               ...         ...        ...         ...        ...  ...   \n",
       "2020-12-24  90.959999  499.859985  91.809998  160.679993  23.116962  ...   \n",
       "2020-12-28  91.430000  498.950012  91.599998  158.800003  23.146763  ...   \n",
       "2020-12-29  91.370003  502.109985  90.620003  156.690002  23.156698  ...   \n",
       "2020-12-30  91.580002  497.450012  92.290001  157.660004  22.630184  ...   \n",
       "2020-12-31  92.849998  500.119995  91.709999  157.509995  23.345449  ...   \n",
       "\n",
       "                  WYNN        XEL        XRX        XLNX         XYL  \\\n",
       "Date                                                                   \n",
       "2020-01-02  142.405029  60.782249  34.986931  100.115349   78.584686   \n",
       "2020-01-03  140.292755  61.074562  34.532185   97.810677   79.047241   \n",
       "2020-01-06  140.015091  60.986866  34.011127   95.771927   78.535492   \n",
       "2020-01-07  140.679504  60.860199  34.058491   97.958405   78.240242   \n",
       "2020-01-08  141.562103  60.801735  34.039543   97.682640   78.505951   \n",
       "...                ...        ...        ...         ...         ...   \n",
       "2020-12-24  114.389999  64.629997  22.333601  141.990005   99.966408   \n",
       "2020-12-28  115.470001  65.320000  23.025963  141.520004  100.086075   \n",
       "2020-12-29  114.309998  65.419998  22.660000  139.899994   99.228508   \n",
       "2020-12-30  113.400002  65.650002  22.889999  142.100006  100.494911   \n",
       "2020-12-31  112.830002  66.669998  23.190001  141.770004  101.502052   \n",
       "\n",
       "                   YUM        ZBRA         ZBH       ZION         ZTS  \n",
       "Date                                                                   \n",
       "2020-01-02   99.762993  259.140015  148.020065  50.195282  133.169510  \n",
       "2020-01-03   99.450531  256.049988  147.633148  49.486965  133.189362  \n",
       "2020-01-06   99.391953  258.010010  146.779953  48.883930  132.166824  \n",
       "2020-01-07   99.567711  256.470001  146.650970  48.587196  132.613556  \n",
       "2020-01-08   99.743477  247.639999  148.406982  49.065796  132.325638  \n",
       "...                ...         ...         ...        ...         ...  \n",
       "2020-12-24  107.027023  376.890015  149.250000  43.052757  160.471298  \n",
       "2020-12-28  109.256340  382.589996  148.889999  43.072624  162.138718  \n",
       "2020-12-29  108.927910  378.040009  152.449997  42.486534  162.867584  \n",
       "2020-12-30  108.987625  383.750000  152.220001  42.933552  164.015808  \n",
       "2020-12-31  108.042152  384.329987  154.089996  43.152092  165.243912  \n",
       "\n",
       "[253 rows x 489 columns]"
      ],
      "text/html": "<div>\n<style scoped>\n    .dataframe tbody tr th:only-of-type {\n        vertical-align: middle;\n    }\n\n    .dataframe tbody tr th {\n        vertical-align: top;\n    }\n\n    .dataframe thead th {\n        text-align: right;\n    }\n</style>\n<table border=\"1\" class=\"dataframe\">\n  <thead>\n    <tr style=\"text-align: right;\">\n      <th></th>\n      <th>MMM</th>\n      <th>ABT</th>\n      <th>ABBV</th>\n      <th>ABMD</th>\n      <th>ACN</th>\n      <th>ATVI</th>\n      <th>ADBE</th>\n      <th>AMD</th>\n      <th>AAP</th>\n      <th>AES</th>\n      <th>...</th>\n      <th>WYNN</th>\n      <th>XEL</th>\n      <th>XRX</th>\n      <th>XLNX</th>\n      <th>XYL</th>\n      <th>YUM</th>\n      <th>ZBRA</th>\n      <th>ZBH</th>\n      <th>ZION</th>\n      <th>ZTS</th>\n    </tr>\n    <tr>\n      <th>Date</th>\n      <th></th>\n      <th></th>\n      <th></th>\n      <th></th>\n      <th></th>\n      <th></th>\n      <th></th>\n      <th></th>\n      <th></th>\n      <th></th>\n      <th></th>\n      <th></th>\n      <th></th>\n      <th></th>\n      <th></th>\n      <th></th>\n      <th></th>\n      <th></th>\n      <th></th>\n      <th></th>\n      <th></th>\n    </tr>\n  </thead>\n  <tbody>\n    <tr>\n      <th>2020-01-02</th>\n      <td>172.119888</td>\n      <td>85.256981</td>\n      <td>83.871666</td>\n      <td>168.809998</td>\n      <td>206.125336</td>\n      <td>58.266792</td>\n      <td>334.429993</td>\n      <td>49.099998</td>\n      <td>158.191467</td>\n      <td>19.237413</td>\n      <td>...</td>\n      <td>142.405029</td>\n      <td>60.782249</td>\n      <td>34.986931</td>\n      <td>100.115349</td>\n      <td>78.584686</td>\n      <td>99.762993</td>\n      <td>259.140015</td>\n      <td>148.020065</td>\n      <td>50.195282</td>\n      <td>133.169510</td>\n    </tr>\n    <tr>\n      <th>2020-01-03</th>\n      <td>170.637741</td>\n      <td>84.217628</td>\n      <td>83.075554</td>\n      <td>166.820007</td>\n      <td>205.782028</td>\n      <td>58.286655</td>\n      <td>331.809998</td>\n      <td>48.599998</td>\n      <td>158.201385</td>\n      <td>19.016512</td>\n      <td>...</td>\n      <td>140.292755</td>\n      <td>61.074562</td>\n      <td>34.532185</td>\n      <td>97.810677</td>\n      <td>79.047241</td>\n      <td>99.450531</td>\n      <td>256.049988</td>\n      <td>147.633148</td>\n      <td>49.486965</td>\n      <td>133.189362</td>\n    </tr>\n    <tr>\n      <th>2020-01-06</th>\n      <td>170.800308</td>\n      <td>84.658859</td>\n      <td>83.731171</td>\n      <td>179.039993</td>\n      <td>204.438293</td>\n      <td>59.349670</td>\n      <td>333.709991</td>\n      <td>48.389999</td>\n      <td>155.601410</td>\n      <td>19.237413</td>\n      <td>...</td>\n      <td>140.015091</td>\n      <td>60.986866</td>\n      <td>34.011127</td>\n      <td>95.771927</td>\n      <td>78.535492</td>\n      <td>99.391953</td>\n      <td>258.010010</td>\n      <td>146.779953</td>\n      <td>48.883930</td>\n      <td>132.166824</td>\n    </tr>\n    <tr>\n      <th>2020-01-07</th>\n      <td>170.111816</td>\n      <td>84.188210</td>\n      <td>83.253510</td>\n      <td>180.350006</td>\n      <td>200.024429</td>\n      <td>59.945747</td>\n      <td>333.390015</td>\n      <td>48.250000</td>\n      <td>153.755646</td>\n      <td>19.304644</td>\n      <td>...</td>\n      <td>140.679504</td>\n      <td>60.860199</td>\n      <td>34.058491</td>\n      <td>97.958405</td>\n      <td>78.240242</td>\n      <td>99.567711</td>\n      <td>256.470001</td>\n      <td>146.650970</td>\n      <td>48.587196</td>\n      <td>132.613556</td>\n    </tr>\n    <tr>\n      <th>2020-01-08</th>\n      <td>172.722321</td>\n      <td>84.531395</td>\n      <td>83.843567</td>\n      <td>178.690002</td>\n      <td>200.416824</td>\n      <td>59.488754</td>\n      <td>337.869995</td>\n      <td>47.830002</td>\n      <td>151.989243</td>\n      <td>19.266226</td>\n      <td>...</td>\n      <td>141.562103</td>\n      <td>60.801735</td>\n      <td>34.039543</td>\n      <td>97.682640</td>\n      <td>78.505951</td>\n      <td>99.743477</td>\n      <td>247.639999</td>\n      <td>148.406982</td>\n      <td>49.065796</td>\n      <td>132.325638</td>\n    </tr>\n    <tr>\n      <th>...</th>\n      <td>...</td>\n      <td>...</td>\n      <td>...</td>\n      <td>...</td>\n      <td>...</td>\n      <td>...</td>\n      <td>...</td>\n      <td>...</td>\n      <td>...</td>\n      <td>...</td>\n      <td>...</td>\n      <td>...</td>\n      <td>...</td>\n      <td>...</td>\n      <td>...</td>\n      <td>...</td>\n      <td>...</td>\n      <td>...</td>\n      <td>...</td>\n      <td>...</td>\n      <td>...</td>\n    </tr>\n    <tr>\n      <th>2020-12-24</th>\n      <td>173.093628</td>\n      <td>107.915245</td>\n      <td>102.066246</td>\n      <td>303.410004</td>\n      <td>256.423737</td>\n      <td>90.959999</td>\n      <td>499.859985</td>\n      <td>91.809998</td>\n      <td>160.679993</td>\n      <td>23.116962</td>\n      <td>...</td>\n      <td>114.389999</td>\n      <td>64.629997</td>\n      <td>22.333601</td>\n      <td>141.990005</td>\n      <td>99.966408</td>\n      <td>107.027023</td>\n      <td>376.890015</td>\n      <td>149.250000</td>\n      <td>43.052757</td>\n      <td>160.471298</td>\n    </tr>\n    <tr>\n      <th>2020-12-28</th>\n      <td>173.282074</td>\n      <td>107.357498</td>\n      <td>102.254044</td>\n      <td>312.910004</td>\n      <td>258.795624</td>\n      <td>91.430000</td>\n      <td>498.950012</td>\n      <td>91.599998</td>\n      <td>158.800003</td>\n      <td>23.146763</td>\n      <td>...</td>\n      <td>115.470001</td>\n      <td>65.320000</td>\n      <td>23.025963</td>\n      <td>141.520004</td>\n      <td>100.086075</td>\n      <td>109.256340</td>\n      <td>382.589996</td>\n      <td>148.889999</td>\n      <td>43.072624</td>\n      <td>162.138718</td>\n    </tr>\n    <tr>\n      <th>2020-12-29</th>\n      <td>172.429108</td>\n      <td>107.895332</td>\n      <td>103.489594</td>\n      <td>320.929993</td>\n      <td>256.882202</td>\n      <td>91.370003</td>\n      <td>502.109985</td>\n      <td>90.620003</td>\n      <td>156.690002</td>\n      <td>23.156698</td>\n      <td>...</td>\n      <td>114.309998</td>\n      <td>65.419998</td>\n      <td>22.660000</td>\n      <td>139.899994</td>\n      <td>99.228508</td>\n      <td>108.927910</td>\n      <td>378.040009</td>\n      <td>152.449997</td>\n      <td>42.486534</td>\n      <td>162.867584</td>\n    </tr>\n    <tr>\n      <th>2020-12-30</th>\n      <td>172.686966</td>\n      <td>108.004890</td>\n      <td>104.053001</td>\n      <td>323.920013</td>\n      <td>256.662933</td>\n      <td>91.580002</td>\n      <td>497.450012</td>\n      <td>92.290001</td>\n      <td>157.660004</td>\n      <td>22.630184</td>\n      <td>...</td>\n      <td>113.400002</td>\n      <td>65.650002</td>\n      <td>22.889999</td>\n      <td>142.100006</td>\n      <td>100.494911</td>\n      <td>108.987625</td>\n      <td>383.750000</td>\n      <td>152.220001</td>\n      <td>42.933552</td>\n      <td>164.015808</td>\n    </tr>\n    <tr>\n      <th>2020-12-31</th>\n      <td>173.361404</td>\n      <td>109.050674</td>\n      <td>105.911278</td>\n      <td>324.200012</td>\n      <td>260.320435</td>\n      <td>92.849998</td>\n      <td>500.119995</td>\n      <td>91.709999</td>\n      <td>157.509995</td>\n      <td>23.345449</td>\n      <td>...</td>\n      <td>112.830002</td>\n      <td>66.669998</td>\n      <td>23.190001</td>\n      <td>141.770004</td>\n      <td>101.502052</td>\n      <td>108.042152</td>\n      <td>384.329987</td>\n      <td>154.089996</td>\n      <td>43.152092</td>\n      <td>165.243912</td>\n    </tr>\n  </tbody>\n</table>\n<p>253 rows × 489 columns</p>\n</div>"
     },
     "metadata": {},
     "execution_count": 5
    }
   ],
   "source": [
    "panel = panel_build(rescrape=False)\n",
    "panel"
   ]
  },
  {
   "cell_type": "code",
   "execution_count": null,
   "metadata": {},
   "outputs": [],
   "source": []
  }
 ]
}